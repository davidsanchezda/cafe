{
 "cells": [
  {
   "cell_type": "markdown",
   "metadata": {},
   "source": [
    "# Robo Cafe LA"
   ]
  },
  {
   "cell_type": "markdown",
   "metadata": {},
   "source": [
    "Hemos decidido abrir un pequeño café regentado por robots en Los Ángeles. \n",
    "\n",
    "El proyecto es prometedor pero caro, así que hemos decidido intentar atraer inversionistas que están interesados en las condiciones actuales del mercado.\n",
    "\n",
    "¿Será capaz de mantener el éxito cuando la novedad de los camareros robot desaparezca?\n",
    "\n",
    "Prepararemos un estudio de mercado con los datos que tenemos, procedentes de fuentes abiertas sobre restaurantes en LA.\n"
   ]
  },
  {
   "cell_type": "markdown",
   "metadata": {},
   "source": [
    "## Biblioteca"
   ]
  },
  {
   "cell_type": "code",
   "execution_count": 1,
   "metadata": {},
   "outputs": [],
   "source": [
    "import pandas as pd\n",
    "import numpy as np\n",
    "import seaborn as sns\n",
    "import matplotlib.pyplot as plt"
   ]
  },
  {
   "cell_type": "markdown",
   "metadata": {},
   "source": [
    "## Explorar los Datos"
   ]
  },
  {
   "cell_type": "code",
   "execution_count": 2,
   "metadata": {},
   "outputs": [],
   "source": [
    "rest_data_us = pd.read_csv('/datasets/rest_data_us.csv')"
   ]
  },
  {
   "cell_type": "code",
   "execution_count": 3,
   "metadata": {},
   "outputs": [
    {
     "data": {
      "text/html": [
       "<div>\n",
       "<style scoped>\n",
       "    .dataframe tbody tr th:only-of-type {\n",
       "        vertical-align: middle;\n",
       "    }\n",
       "\n",
       "    .dataframe tbody tr th {\n",
       "        vertical-align: top;\n",
       "    }\n",
       "\n",
       "    .dataframe thead th {\n",
       "        text-align: right;\n",
       "    }\n",
       "</style>\n",
       "<table border=\"1\" class=\"dataframe\">\n",
       "  <thead>\n",
       "    <tr style=\"text-align: right;\">\n",
       "      <th></th>\n",
       "      <th>id</th>\n",
       "      <th>object_name</th>\n",
       "      <th>address</th>\n",
       "      <th>chain</th>\n",
       "      <th>object_type</th>\n",
       "      <th>number</th>\n",
       "    </tr>\n",
       "  </thead>\n",
       "  <tbody>\n",
       "    <tr>\n",
       "      <th>0</th>\n",
       "      <td>11786</td>\n",
       "      <td>HABITAT COFFEE SHOP</td>\n",
       "      <td>3708 N EAGLE ROCK BLVD</td>\n",
       "      <td>False</td>\n",
       "      <td>Cafe</td>\n",
       "      <td>26</td>\n",
       "    </tr>\n",
       "    <tr>\n",
       "      <th>1</th>\n",
       "      <td>11787</td>\n",
       "      <td>REILLY'S</td>\n",
       "      <td>100 WORLD WAY # 120</td>\n",
       "      <td>False</td>\n",
       "      <td>Restaurant</td>\n",
       "      <td>9</td>\n",
       "    </tr>\n",
       "    <tr>\n",
       "      <th>2</th>\n",
       "      <td>11788</td>\n",
       "      <td>STREET CHURROS</td>\n",
       "      <td>6801 HOLLYWOOD BLVD # 253</td>\n",
       "      <td>False</td>\n",
       "      <td>Fast Food</td>\n",
       "      <td>20</td>\n",
       "    </tr>\n",
       "    <tr>\n",
       "      <th>3</th>\n",
       "      <td>11789</td>\n",
       "      <td>TRINITI ECHO PARK</td>\n",
       "      <td>1814 W SUNSET BLVD</td>\n",
       "      <td>False</td>\n",
       "      <td>Restaurant</td>\n",
       "      <td>22</td>\n",
       "    </tr>\n",
       "    <tr>\n",
       "      <th>4</th>\n",
       "      <td>11790</td>\n",
       "      <td>POLLEN</td>\n",
       "      <td>2100 ECHO PARK AVE</td>\n",
       "      <td>False</td>\n",
       "      <td>Restaurant</td>\n",
       "      <td>20</td>\n",
       "    </tr>\n",
       "  </tbody>\n",
       "</table>\n",
       "</div>"
      ],
      "text/plain": [
       "      id          object_name                    address  chain object_type  \\\n",
       "0  11786  HABITAT COFFEE SHOP     3708 N EAGLE ROCK BLVD  False        Cafe   \n",
       "1  11787             REILLY'S        100 WORLD WAY # 120  False  Restaurant   \n",
       "2  11788       STREET CHURROS  6801 HOLLYWOOD BLVD # 253  False   Fast Food   \n",
       "3  11789    TRINITI ECHO PARK         1814 W SUNSET BLVD  False  Restaurant   \n",
       "4  11790               POLLEN         2100 ECHO PARK AVE  False  Restaurant   \n",
       "\n",
       "   number  \n",
       "0      26  \n",
       "1       9  \n",
       "2      20  \n",
       "3      22  \n",
       "4      20  "
      ]
     },
     "execution_count": 3,
     "metadata": {},
     "output_type": "execute_result"
    }
   ],
   "source": [
    "rest_data_us.head()"
   ]
  },
  {
   "cell_type": "markdown",
   "metadata": {},
   "source": [
    "El marco de datos rest_data_us contiene información sobre el nombre, el tipo, el estado de la cadena, la dirección y el número de asientos de cada restaurante del conjunto de datos. Este marco de datos puede utilizarse para análisis y visualizaciones posteriores con el fin de responder a diversas preguntas de investigación sobre el mercado de la restauración en Los Ángeles."
   ]
  },
  {
   "cell_type": "code",
   "execution_count": 4,
   "metadata": {
    "scrolled": true
   },
   "outputs": [
    {
     "name": "stdout",
     "output_type": "stream",
     "text": [
      "<class 'pandas.core.frame.DataFrame'>\n",
      "RangeIndex: 9651 entries, 0 to 9650\n",
      "Data columns (total 6 columns):\n",
      " #   Column       Non-Null Count  Dtype \n",
      "---  ------       --------------  ----- \n",
      " 0   id           9651 non-null   int64 \n",
      " 1   object_name  9651 non-null   object\n",
      " 2   address      9651 non-null   object\n",
      " 3   chain        9648 non-null   object\n",
      " 4   object_type  9651 non-null   object\n",
      " 5   number       9651 non-null   int64 \n",
      "dtypes: int64(2), object(4)\n",
      "memory usage: 452.5+ KB\n"
     ]
    }
   ],
   "source": [
    "rest_data_us.info()"
   ]
  },
  {
   "cell_type": "code",
   "execution_count": 5,
   "metadata": {
    "scrolled": true
   },
   "outputs": [
    {
     "data": {
      "text/plain": [
       "id             0\n",
       "object_name    0\n",
       "address        0\n",
       "chain          3\n",
       "object_type    0\n",
       "number         0\n",
       "dtype: int64"
      ]
     },
     "execution_count": 5,
     "metadata": {},
     "output_type": "execute_result"
    }
   ],
   "source": [
    "rest_data_us.isnull().sum()"
   ]
  },
  {
   "cell_type": "code",
   "execution_count": 7,
   "metadata": {},
   "outputs": [],
   "source": [
    "rest_data_us = rest_data_us.dropna()"
   ]
  },
  {
   "cell_type": "markdown",
   "metadata": {},
   "source": [
    "Revisamso valores ausentes y aparecen 3 en la columna 'chain'. Los eliminamos ya que representa el: 0.031% de la muestra. "
   ]
  },
  {
   "cell_type": "code",
   "execution_count": 35,
   "metadata": {},
   "outputs": [
    {
     "data": {
      "text/plain": [
       "8              ABC DONUTS\n",
       "10          EL POLLO LOCO\n",
       "27      NORM'S RESTAURANT\n",
       "33       ONO HAWAIIAN BBQ\n",
       "37             WABA GRILL\n",
       "              ...        \n",
       "9605             YAMAKASE\n",
       "9608      GO GET EM TIGER\n",
       "9627          PIZZA BUONA\n",
       "9639           MCDONALD'S\n",
       "9648          JUICY WINGZ\n",
       "Name: object_name, Length: 1503, dtype: object"
      ]
     },
     "execution_count": 35,
     "metadata": {},
     "output_type": "execute_result"
    }
   ],
   "source": [
    "duplicates = rest_data_us[rest_data_us.duplicated(subset=['object_name'], keep=False)]\n",
    "duplicates['object_name']"
   ]
  },
  {
   "cell_type": "markdown",
   "metadata": {},
   "source": [
    "Revisamos los duplicados en 'object_name' y aparecen 1503 lo cual es el 15.573% de la muestra. Vamos a verificar si los nombres comparten diferentes direcciones y podamos continuar ya que serian la presencia de cadenas o varios restaurantes con el mismo nombre en diferentes calles."
   ]
  },
  {
   "cell_type": "code",
   "execution_count": 36,
   "metadata": {},
   "outputs": [
    {
     "data": {
      "text/html": [
       "<div>\n",
       "<style scoped>\n",
       "    .dataframe tbody tr th:only-of-type {\n",
       "        vertical-align: middle;\n",
       "    }\n",
       "\n",
       "    .dataframe tbody tr th {\n",
       "        vertical-align: top;\n",
       "    }\n",
       "\n",
       "    .dataframe thead th {\n",
       "        text-align: right;\n",
       "    }\n",
       "</style>\n",
       "<table border=\"1\" class=\"dataframe\">\n",
       "  <thead>\n",
       "    <tr style=\"text-align: right;\">\n",
       "      <th></th>\n",
       "      <th>id</th>\n",
       "      <th>object_name</th>\n",
       "      <th>address</th>\n",
       "      <th>chain</th>\n",
       "      <th>object_type</th>\n",
       "      <th>number</th>\n",
       "      <th>street_num</th>\n",
       "    </tr>\n",
       "  </thead>\n",
       "  <tbody>\n",
       "    <tr>\n",
       "      <th>8</th>\n",
       "      <td>11794</td>\n",
       "      <td>ABC DONUTS</td>\n",
       "      <td>3027 N SAN FERNANDO RD UNIT 103</td>\n",
       "      <td>True</td>\n",
       "      <td>Fast Food</td>\n",
       "      <td>1</td>\n",
       "      <td>3027</td>\n",
       "    </tr>\n",
       "    <tr>\n",
       "      <th>4497</th>\n",
       "      <td>16283</td>\n",
       "      <td>ABC DONUTS</td>\n",
       "      <td>4555 E 3RD ST # 1A</td>\n",
       "      <td>True</td>\n",
       "      <td>Fast Food</td>\n",
       "      <td>21</td>\n",
       "      <td>4555</td>\n",
       "    </tr>\n",
       "    <tr>\n",
       "      <th>4569</th>\n",
       "      <td>16355</td>\n",
       "      <td>ACA GRILL</td>\n",
       "      <td>3062 W 8TH ST</td>\n",
       "      <td>True</td>\n",
       "      <td>Restaurant</td>\n",
       "      <td>25</td>\n",
       "      <td>3062</td>\n",
       "    </tr>\n",
       "    <tr>\n",
       "      <th>2874</th>\n",
       "      <td>14660</td>\n",
       "      <td>ACA GRILL</td>\n",
       "      <td>1300 S SAN PEDRO ST STE 220</td>\n",
       "      <td>True</td>\n",
       "      <td>Restaurant</td>\n",
       "      <td>118</td>\n",
       "      <td>1300</td>\n",
       "    </tr>\n",
       "    <tr>\n",
       "      <th>128</th>\n",
       "      <td>11914</td>\n",
       "      <td>ADMIRALS CLUB</td>\n",
       "      <td>500 WORLD WAY</td>\n",
       "      <td>False</td>\n",
       "      <td>Restaurant</td>\n",
       "      <td>205</td>\n",
       "      <td>500</td>\n",
       "    </tr>\n",
       "    <tr>\n",
       "      <th>...</th>\n",
       "      <td>...</td>\n",
       "      <td>...</td>\n",
       "      <td>...</td>\n",
       "      <td>...</td>\n",
       "      <td>...</td>\n",
       "      <td>...</td>\n",
       "      <td>...</td>\n",
       "    </tr>\n",
       "    <tr>\n",
       "      <th>3414</th>\n",
       "      <td>15200</td>\n",
       "      <td>Z PIZZA</td>\n",
       "      <td>5933 W CENTURY BLVD STE C</td>\n",
       "      <td>True</td>\n",
       "      <td>Pizza</td>\n",
       "      <td>31</td>\n",
       "      <td>5933</td>\n",
       "    </tr>\n",
       "    <tr>\n",
       "      <th>6957</th>\n",
       "      <td>18743</td>\n",
       "      <td>Z PIZZA</td>\n",
       "      <td>123 N LARCHMONT BLVD</td>\n",
       "      <td>True</td>\n",
       "      <td>Pizza</td>\n",
       "      <td>48</td>\n",
       "      <td>123</td>\n",
       "    </tr>\n",
       "    <tr>\n",
       "      <th>6943</th>\n",
       "      <td>18729</td>\n",
       "      <td>Z PIZZA</td>\n",
       "      <td>2664 N GRIFFITH PARK BLVD</td>\n",
       "      <td>True</td>\n",
       "      <td>Pizza</td>\n",
       "      <td>44</td>\n",
       "      <td>2664</td>\n",
       "    </tr>\n",
       "    <tr>\n",
       "      <th>106</th>\n",
       "      <td>11892</td>\n",
       "      <td>ZANKOU CHICKEN</td>\n",
       "      <td>7851 W SUNSET BLVD</td>\n",
       "      <td>True</td>\n",
       "      <td>Restaurant</td>\n",
       "      <td>40</td>\n",
       "      <td>7851</td>\n",
       "    </tr>\n",
       "    <tr>\n",
       "      <th>8509</th>\n",
       "      <td>20295</td>\n",
       "      <td>ZANKOU CHICKEN</td>\n",
       "      <td>5065 W SUNSET BLVD</td>\n",
       "      <td>True</td>\n",
       "      <td>Restaurant</td>\n",
       "      <td>67</td>\n",
       "      <td>5065</td>\n",
       "    </tr>\n",
       "  </tbody>\n",
       "</table>\n",
       "<p>1503 rows × 7 columns</p>\n",
       "</div>"
      ],
      "text/plain": [
       "         id     object_name                          address  chain  \\\n",
       "8     11794      ABC DONUTS  3027 N SAN FERNANDO RD UNIT 103   True   \n",
       "4497  16283      ABC DONUTS               4555 E 3RD ST # 1A   True   \n",
       "4569  16355       ACA GRILL                    3062 W 8TH ST   True   \n",
       "2874  14660       ACA GRILL      1300 S SAN PEDRO ST STE 220   True   \n",
       "128   11914   ADMIRALS CLUB                    500 WORLD WAY  False   \n",
       "...     ...             ...                              ...    ...   \n",
       "3414  15200         Z PIZZA        5933 W CENTURY BLVD STE C   True   \n",
       "6957  18743         Z PIZZA             123 N LARCHMONT BLVD   True   \n",
       "6943  18729         Z PIZZA        2664 N GRIFFITH PARK BLVD   True   \n",
       "106   11892  ZANKOU CHICKEN               7851 W SUNSET BLVD   True   \n",
       "8509  20295  ZANKOU CHICKEN               5065 W SUNSET BLVD   True   \n",
       "\n",
       "     object_type  number street_num  \n",
       "8      Fast Food       1       3027  \n",
       "4497   Fast Food      21       4555  \n",
       "4569  Restaurant      25       3062  \n",
       "2874  Restaurant     118       1300  \n",
       "128   Restaurant     205        500  \n",
       "...          ...     ...        ...  \n",
       "3414       Pizza      31       5933  \n",
       "6957       Pizza      48        123  \n",
       "6943       Pizza      44       2664  \n",
       "106   Restaurant      40       7851  \n",
       "8509  Restaurant      67       5065  \n",
       "\n",
       "[1503 rows x 7 columns]"
      ]
     },
     "execution_count": 36,
     "metadata": {},
     "output_type": "execute_result"
    }
   ],
   "source": [
    "df_sorted = duplicates.sort_values(by='object_name')\n",
    "df_sorted"
   ]
  },
  {
   "cell_type": "markdown",
   "metadata": {},
   "source": [
    "Los duplicados en object_name tienen diferentes direcciones lo cual no es un problema para continuar con el analisis de los datos."
   ]
  },
  {
   "cell_type": "markdown",
   "metadata": {},
   "source": [
    "## Análisis de datos"
   ]
  },
  {
   "cell_type": "markdown",
   "metadata": {},
   "source": [
    "### Investigamos las proporciones de los distintos tipos de establecimientos."
   ]
  },
  {
   "cell_type": "code",
   "execution_count": 8,
   "metadata": {},
   "outputs": [
    {
     "data": {
      "text/plain": [
       "Restaurant    7253\n",
       "Fast Food     1066\n",
       "Cafe           435\n",
       "Pizza          319\n",
       "Bar            292\n",
       "Bakery         283\n",
       "Name: object_type, dtype: int64"
      ]
     },
     "execution_count": 8,
     "metadata": {},
     "output_type": "execute_result"
    }
   ],
   "source": [
    "rest_data_us['object_type'].value_counts()"
   ]
  },
  {
   "cell_type": "markdown",
   "metadata": {},
   "source": [
    "#### Trazamos un gráfico."
   ]
  },
  {
   "cell_type": "markdown",
   "metadata": {},
   "source": [
    "Se calcula el porcentaje de cada tipo de establecimiento sobre el total y se muestra en las anotaciones del gráfico."
   ]
  },
  {
   "cell_type": "code",
   "execution_count": 9,
   "metadata": {},
   "outputs": [
    {
     "data": {
      "image/png": "[encoded data removed]",
      "text/plain": [
       "<Figure size 864x432 with 1 Axes>"
      ]
     },
     "metadata": {
      "needs_background": "light"
     },
     "output_type": "display_data"
    }
   ],
   "source": [
    "plt.figure(figsize=(12, 6))\n",
    "sns.countplot(x='object_type', data=rest_data_us, palette='viridis')\n",
    "plt.title('Proporciones de Tipos de Establecimientos')\n",
    "plt.xlabel('Tipo de Establecimiento')\n",
    "plt.ylabel('Cantidad')\n",
    "plt.xticks(rotation=45, ha='right')\n",
    "plt.show()"
   ]
  },
  {
   "cell_type": "markdown",
   "metadata": {},
   "source": [
    "El gráfico muestra que el tipo de establecimiento más común es el Restaurant. El siguiente tipo más común es Fast Food y Cafe"
   ]
  },
  {
   "cell_type": "markdown",
   "metadata": {},
   "source": [
    "### Investigamos las proporciones de los establecimientos que pertenecen a una cadena y de los que no. \n",
    "\n",
    "Trazamos un gráfico"
   ]
  },
  {
   "cell_type": "code",
   "execution_count": 10,
   "metadata": {},
   "outputs": [
    {
     "data": {
      "image/png": "[encoded data removed]",
      "text/plain": [
       "<Figure size 576x576 with 1 Axes>"
      ]
     },
     "metadata": {},
     "output_type": "display_data"
    }
   ],
   "source": [
    "chain = rest_data_us['chain'].value_counts()\n",
    "plt.figure(figsize=(8, 8))\n",
    "sns.set(style=\"whitegrid\")\n",
    "plt.pie(chain, labels=chain.index, autopct='%1.1f%%', startangle=140, colors=sns.color_palette('deep'))\n",
    "plt.title('Proporciones de Cadenas de Establecimientos')\n",
    "plt.show()"
   ]
  },
  {
   "cell_type": "markdown",
   "metadata": {},
   "source": [
    "El 60.9% no pertenece a una cadena y el 38.1% si pertenece a una cadena. \n",
    "El gráfico muestra que los establecimientos sin cadena dominan a los establecimientos con cadena."
   ]
  },
  {
   "cell_type": "markdown",
   "metadata": {},
   "source": [
    "### ¿Qué tipo de establecimiento es habitualmente una cadena?"
   ]
  },
  {
   "cell_type": "code",
   "execution_count": 11,
   "metadata": {},
   "outputs": [
    {
     "name": "stdout",
     "output_type": "stream",
     "text": [
      "chain        False  True  Total\n",
      "object_type                    \n",
      "Bakery           0   283    283\n",
      "Bar            215    77    292\n",
      "Cafe           169   266    435\n",
      "Fast Food      461   605   1066\n",
      "Pizza          166   153    319\n",
      "Restaurant    4961  2292   7253\n",
      "Total         5972  3676   9648\n"
     ]
    }
   ],
   "source": [
    "chain = pd.crosstab(rest_data_us['object_type'], rest_data_us['chain'], margins=True, margins_name='Total')\n",
    "print(chain)"
   ]
  },
  {
   "cell_type": "code",
   "execution_count": 12,
   "metadata": {},
   "outputs": [
    {
     "data": {
      "image/png": "[encoded data removed]",
      "text/plain": [
       "<Figure size 864x432 with 1 Axes>"
      ]
     },
     "metadata": {},
     "output_type": "display_data"
    }
   ],
   "source": [
    "plt.figure(figsize=(12, 6))\n",
    "sns.countplot(x='object_type', hue='chain', data=rest_data_us, palette='viridis')\n",
    "plt.title('Proporciones de Tipos de Establecimientos')\n",
    "plt.xlabel('Tipo de Establecimiento')\n",
    "plt.ylabel('Cantidad')\n",
    "plt.xticks(rotation=45, ha='right')\n",
    "plt.show()"
   ]
  },
  {
   "cell_type": "markdown",
   "metadata": {},
   "source": [
    "El establecimiento que habitualmente es una cadena es: \n",
    "    \n",
    "    Restaurant con la cantidad de: 2292\n",
    "    \n",
    "Apesar que en el grafico anterior es mas comun que los establecimientos sin cadena dominan el mercado. En Cafe que es nuestro mercado y Fast Food los que tienen mayor porcentaje son los que tienen cadena.    "
   ]
  },
  {
   "cell_type": "markdown",
   "metadata": {},
   "source": [
    "### ¿Qué caracteriza a las cadenas: muchos establecimientos con un pequeño número de asientos o unos pocos establecimientos con un montón de asientos?\n"
   ]
  },
  {
   "cell_type": "markdown",
   "metadata": {},
   "source": [
    "Sabemos que el promedio de estableciomientos de cadenas es el 38.1%.\n",
    "\n",
    "Vamos a calcular la cantidad de asientos por tipo de establecimiento."
   ]
  },
  {
   "cell_type": "code",
   "execution_count": 13,
   "metadata": {
    "scrolled": true
   },
   "outputs": [
    {
     "name": "stdout",
     "output_type": "stream",
     "text": [
      "Media de asientos por establecimiento para cadenas: 39.69\n",
      "Media de asientos por establecimiento para no cadenas: 46.17\n"
     ]
    }
   ],
   "source": [
    "seats_sum_chain = rest_data_us[rest_data_us['chain'] == True]['number'].mean()\n",
    "seats_sum_no_chain = rest_data_us[rest_data_us['chain'] == False]['number'].mean()\n",
    "\n",
    "print(f\"Media de asientos por establecimiento para cadenas: {seats_sum_chain:.2f}\")\n",
    "print(f\"Media de asientos por establecimiento para no cadenas: {seats_sum_no_chain:.2f}\")"
   ]
  },
  {
   "cell_type": "markdown",
   "metadata": {},
   "source": [
    "Podemos verificar que el numero de asientos es menor que los establecimientos de no cadena.\n",
    "Pero solo estan abajo en la media por 3.\n",
    "\n",
    "Vamos a verificar en que tipo de establecimientos tienen mas asientos que las no cadenas."
   ]
  },
  {
   "cell_type": "code",
   "execution_count": 14,
   "metadata": {},
   "outputs": [
    {
     "data": {
      "image/png": "[encoded data removed]",
      "text/plain": [
       "<Figure size 864x432 with 1 Axes>"
      ]
     },
     "metadata": {},
     "output_type": "display_data"
    }
   ],
   "source": [
    "plt.figure(figsize=(12, 6))\n",
    "ax = sns.barplot(x=\"object_type\", y=\"number\", hue=\"chain\", data=rest_data_us)"
   ]
  },
  {
   "cell_type": "markdown",
   "metadata": {},
   "source": [
    "Podemos observar una diferencia significativa en el número de asientos en la categoría de comida rápida y cafe.\n",
    "\n",
    "Asi que la respuesta es: Pocos establecimientos con un montón de asientos"
   ]
  },
  {
   "cell_type": "markdown",
   "metadata": {},
   "source": [
    "### Determinamos el promedio de número de asientos para cada tipo de restaurante.\n"
   ]
  },
  {
   "cell_type": "code",
   "execution_count": 15,
   "metadata": {},
   "outputs": [
    {
     "data": {
      "text/html": [
       "<div>\n",
       "<style scoped>\n",
       "    .dataframe tbody tr th:only-of-type {\n",
       "        vertical-align: middle;\n",
       "    }\n",
       "\n",
       "    .dataframe tbody tr th {\n",
       "        vertical-align: top;\n",
       "    }\n",
       "\n",
       "    .dataframe thead th {\n",
       "        text-align: right;\n",
       "    }\n",
       "</style>\n",
       "<table border=\"1\" class=\"dataframe\">\n",
       "  <thead>\n",
       "    <tr style=\"text-align: right;\">\n",
       "      <th></th>\n",
       "      <th>object_type</th>\n",
       "      <th>avg_number_of_seats</th>\n",
       "    </tr>\n",
       "  </thead>\n",
       "  <tbody>\n",
       "    <tr>\n",
       "      <th>0</th>\n",
       "      <td>Bakery</td>\n",
       "      <td>21.773852</td>\n",
       "    </tr>\n",
       "    <tr>\n",
       "      <th>1</th>\n",
       "      <td>Bar</td>\n",
       "      <td>44.767123</td>\n",
       "    </tr>\n",
       "    <tr>\n",
       "      <th>2</th>\n",
       "      <td>Cafe</td>\n",
       "      <td>25.000000</td>\n",
       "    </tr>\n",
       "    <tr>\n",
       "      <th>3</th>\n",
       "      <td>Fast Food</td>\n",
       "      <td>31.837711</td>\n",
       "    </tr>\n",
       "    <tr>\n",
       "      <th>4</th>\n",
       "      <td>Pizza</td>\n",
       "      <td>28.545455</td>\n",
       "    </tr>\n",
       "    <tr>\n",
       "      <th>5</th>\n",
       "      <td>Restaurant</td>\n",
       "      <td>48.048807</td>\n",
       "    </tr>\n",
       "  </tbody>\n",
       "</table>\n",
       "</div>"
      ],
      "text/plain": [
       "  object_type  avg_number_of_seats\n",
       "0      Bakery            21.773852\n",
       "1         Bar            44.767123\n",
       "2        Cafe            25.000000\n",
       "3   Fast Food            31.837711\n",
       "4       Pizza            28.545455\n",
       "5  Restaurant            48.048807"
      ]
     },
     "execution_count": 15,
     "metadata": {},
     "output_type": "execute_result"
    }
   ],
   "source": [
    "seat_mean_per_type = (rest_data_us\n",
    "                      .groupby('object_type')\n",
    "                      .agg({'number':'mean'})\n",
    "                      .rename(columns={'number':'avg_number_of_seats'})).reset_index()\n",
    "seat_mean_per_type"
   ]
  },
  {
   "cell_type": "markdown",
   "metadata": {},
   "source": [
    "Generamos un gráfico de barras que muestra el número promedio de asientos para cada tipo de establecimiento."
   ]
  },
  {
   "cell_type": "code",
   "execution_count": 16,
   "metadata": {},
   "outputs": [
    {
     "data": {
      "image/png": "[encoded data removed]",
      "text/plain": [
       "<Figure size 864x432 with 1 Axes>"
      ]
     },
     "metadata": {},
     "output_type": "display_data"
    }
   ],
   "source": [
    "plt.figure(figsize=(12,6))\n",
    "seat_mean_per_type_graph = sns.barplot(data=seat_mean_per_type.nlargest(6,'avg_number_of_seats'), \n",
    "                                  x='object_type',\n",
    "                                  y='avg_number_of_seats',\n",
    "                                  palette='viridis')"
   ]
  },
  {
   "cell_type": "markdown",
   "metadata": {},
   "source": [
    "En este gráfico podemos ver que el restaurante es el establecimiento con más asientos promedios, seguido de los bares y los locales de comida rápida."
   ]
  },
  {
   "cell_type": "markdown",
   "metadata": {},
   "source": [
    "### Coloca los datos de los nombres de las calles de la columna address en una columna separada."
   ]
  },
  {
   "cell_type": "code",
   "execution_count": 17,
   "metadata": {},
   "outputs": [],
   "source": [
    "rest_data_us['street_num'] = rest_data_us['address'].str.extract(r'(?P<StreetNo>\\d{,5})')"
   ]
  },
  {
   "cell_type": "markdown",
   "metadata": {},
   "source": [
    "Vamos a extraer los números de calle de una columna 'address' en un DataFrame y crear una nueva columna 'street_num'."
   ]
  },
  {
   "cell_type": "code",
   "execution_count": 18,
   "metadata": {},
   "outputs": [
    {
     "data": {
      "text/html": [
       "<div>\n",
       "<style scoped>\n",
       "    .dataframe tbody tr th:only-of-type {\n",
       "        vertical-align: middle;\n",
       "    }\n",
       "\n",
       "    .dataframe tbody tr th {\n",
       "        vertical-align: top;\n",
       "    }\n",
       "\n",
       "    .dataframe thead th {\n",
       "        text-align: right;\n",
       "    }\n",
       "</style>\n",
       "<table border=\"1\" class=\"dataframe\">\n",
       "  <thead>\n",
       "    <tr style=\"text-align: right;\">\n",
       "      <th></th>\n",
       "      <th>id</th>\n",
       "      <th>object_name</th>\n",
       "      <th>address</th>\n",
       "      <th>chain</th>\n",
       "      <th>object_type</th>\n",
       "      <th>number</th>\n",
       "      <th>street_num</th>\n",
       "    </tr>\n",
       "  </thead>\n",
       "  <tbody>\n",
       "    <tr>\n",
       "      <th>0</th>\n",
       "      <td>11786</td>\n",
       "      <td>HABITAT COFFEE SHOP</td>\n",
       "      <td>3708 N EAGLE ROCK BLVD</td>\n",
       "      <td>False</td>\n",
       "      <td>Cafe</td>\n",
       "      <td>26</td>\n",
       "      <td>3708</td>\n",
       "    </tr>\n",
       "    <tr>\n",
       "      <th>1</th>\n",
       "      <td>11787</td>\n",
       "      <td>REILLY'S</td>\n",
       "      <td>100 WORLD WAY # 120</td>\n",
       "      <td>False</td>\n",
       "      <td>Restaurant</td>\n",
       "      <td>9</td>\n",
       "      <td>100</td>\n",
       "    </tr>\n",
       "    <tr>\n",
       "      <th>2</th>\n",
       "      <td>11788</td>\n",
       "      <td>STREET CHURROS</td>\n",
       "      <td>6801 HOLLYWOOD BLVD # 253</td>\n",
       "      <td>False</td>\n",
       "      <td>Fast Food</td>\n",
       "      <td>20</td>\n",
       "      <td>6801</td>\n",
       "    </tr>\n",
       "    <tr>\n",
       "      <th>3</th>\n",
       "      <td>11789</td>\n",
       "      <td>TRINITI ECHO PARK</td>\n",
       "      <td>1814 W SUNSET BLVD</td>\n",
       "      <td>False</td>\n",
       "      <td>Restaurant</td>\n",
       "      <td>22</td>\n",
       "      <td>1814</td>\n",
       "    </tr>\n",
       "    <tr>\n",
       "      <th>4</th>\n",
       "      <td>11790</td>\n",
       "      <td>POLLEN</td>\n",
       "      <td>2100 ECHO PARK AVE</td>\n",
       "      <td>False</td>\n",
       "      <td>Restaurant</td>\n",
       "      <td>20</td>\n",
       "      <td>2100</td>\n",
       "    </tr>\n",
       "  </tbody>\n",
       "</table>\n",
       "</div>"
      ],
      "text/plain": [
       "      id          object_name                    address  chain object_type  \\\n",
       "0  11786  HABITAT COFFEE SHOP     3708 N EAGLE ROCK BLVD  False        Cafe   \n",
       "1  11787             REILLY'S        100 WORLD WAY # 120  False  Restaurant   \n",
       "2  11788       STREET CHURROS  6801 HOLLYWOOD BLVD # 253  False   Fast Food   \n",
       "3  11789    TRINITI ECHO PARK         1814 W SUNSET BLVD  False  Restaurant   \n",
       "4  11790               POLLEN         2100 ECHO PARK AVE  False  Restaurant   \n",
       "\n",
       "   number street_num  \n",
       "0      26       3708  \n",
       "1       9        100  \n",
       "2      20       6801  \n",
       "3      22       1814  \n",
       "4      20       2100  "
      ]
     },
     "execution_count": 18,
     "metadata": {},
     "output_type": "execute_result"
    }
   ],
   "source": [
    "rest_data_us.head()"
   ]
  },
  {
   "cell_type": "markdown",
   "metadata": {},
   "source": [
    "### Trazamos un gráfico de las diez mejores calles por número de restaurantes."
   ]
  },
  {
   "cell_type": "code",
   "execution_count": 19,
   "metadata": {},
   "outputs": [],
   "source": [
    "rest_data_us_street = (rest_data_us\n",
    "                       .groupby('street_num')\n",
    "                       .agg({'id':'count','number':'mean'})\n",
    "                       .rename(columns={'id':'number_of_establishment', 'number': 'avg_number_of_seats'})\n",
    "                       .reset_index()\n",
    ")"
   ]
  },
  {
   "cell_type": "code",
   "execution_count": 20,
   "metadata": {},
   "outputs": [
    {
     "data": {
      "image/png": "[encoded data removed]",
      "text/plain": [
       "<Figure size 864x432 with 1 Axes>"
      ]
     },
     "metadata": {},
     "output_type": "display_data"
    }
   ],
   "source": [
    "plt.figure(figsize=(12,6))\n",
    "street_graph = sns.barplot(data=rest_data_us_street.nlargest(10,'number_of_establishment'), \n",
    "                                  x='street_num',\n",
    "                                  y='number_of_establishment',\n",
    "                                  palette='viridis')\n",
    "    \n",
    "plt.title('Top 10 mejores calles por número de restaurantes')\n",
    "plt.xlabel('Numero de Calle')\n",
    "plt.ylabel('Numero de restaurantes')\n",
    "plt.show()"
   ]
  },
  {
   "cell_type": "markdown",
   "metadata": {},
   "source": [
    "El gráfico resultante muestra las 10 calles con mayor número de establecimientos. El eje x representa el número de calle extraído de la columna street_num, y el eje y representa el número de establecimientos de cada calle.\n",
    "\n",
    "El gráfico nos permite identificar rápidamente las calles más concurridas en cuanto al número de establecimientos, lo que puede ser útil para las empresas que deseen abrir un nuevo establecimiento en un lugar muy transitado."
   ]
  },
  {
   "cell_type": "markdown",
   "metadata": {},
   "source": [
    "### Encuentramos el número de calles que solo tienen un restaurante."
   ]
  },
  {
   "cell_type": "code",
   "execution_count": 21,
   "metadata": {},
   "outputs": [
    {
     "data": {
      "text/html": [
       "<div>\n",
       "<style scoped>\n",
       "    .dataframe tbody tr th:only-of-type {\n",
       "        vertical-align: middle;\n",
       "    }\n",
       "\n",
       "    .dataframe tbody tr th {\n",
       "        vertical-align: top;\n",
       "    }\n",
       "\n",
       "    .dataframe thead th {\n",
       "        text-align: right;\n",
       "    }\n",
       "</style>\n",
       "<table border=\"1\" class=\"dataframe\">\n",
       "  <thead>\n",
       "    <tr style=\"text-align: right;\">\n",
       "      <th></th>\n",
       "      <th>street_num</th>\n",
       "      <th>number_of_establishment</th>\n",
       "      <th>avg_number_of_seats</th>\n",
       "    </tr>\n",
       "  </thead>\n",
       "  <tbody>\n",
       "    <tr>\n",
       "      <th>1</th>\n",
       "      <td>00936</td>\n",
       "      <td>1</td>\n",
       "      <td>21.0</td>\n",
       "    </tr>\n",
       "    <tr>\n",
       "      <th>2</th>\n",
       "      <td>01253</td>\n",
       "      <td>1</td>\n",
       "      <td>29.0</td>\n",
       "    </tr>\n",
       "    <tr>\n",
       "      <th>3</th>\n",
       "      <td>03742</td>\n",
       "      <td>1</td>\n",
       "      <td>39.0</td>\n",
       "    </tr>\n",
       "    <tr>\n",
       "      <th>4</th>\n",
       "      <td>05358</td>\n",
       "      <td>1</td>\n",
       "      <td>113.0</td>\n",
       "    </tr>\n",
       "    <tr>\n",
       "      <th>5</th>\n",
       "      <td>0800</td>\n",
       "      <td>1</td>\n",
       "      <td>195.0</td>\n",
       "    </tr>\n",
       "  </tbody>\n",
       "</table>\n",
       "</div>"
      ],
      "text/plain": [
       "  street_num  number_of_establishment  avg_number_of_seats\n",
       "1      00936                        1                 21.0\n",
       "2      01253                        1                 29.0\n",
       "3      03742                        1                 39.0\n",
       "4      05358                        1                113.0\n",
       "5       0800                        1                195.0"
      ]
     },
     "execution_count": 21,
     "metadata": {},
     "output_type": "execute_result"
    }
   ],
   "source": [
    "rest_data_us_street[rest_data_us_street['number_of_establishment'] == 1].head()"
   ]
  },
  {
   "cell_type": "code",
   "execution_count": 22,
   "metadata": {},
   "outputs": [
    {
     "data": {
      "text/plain": [
       "2125"
      ]
     },
     "execution_count": 22,
     "metadata": {},
     "output_type": "execute_result"
    }
   ],
   "source": [
    "rest_data_us_street[rest_data_us_street['number_of_establishment'] == 1]['street_num'].count()"
   ]
  },
  {
   "cell_type": "code",
   "execution_count": 23,
   "metadata": {},
   "outputs": [
    {
     "data": {
      "text/plain": [
       "count    3997.000000\n",
       "mean        2.413810\n",
       "std         3.582419\n",
       "min         1.000000\n",
       "25%         1.000000\n",
       "50%         1.000000\n",
       "75%         3.000000\n",
       "max        77.000000\n",
       "Name: number_of_establishment, dtype: float64"
      ]
     },
     "execution_count": 23,
     "metadata": {},
     "output_type": "execute_result"
    }
   ],
   "source": [
    "rest_data_us_street['number_of_establishment'].describe()"
   ]
  },
  {
   "cell_type": "markdown",
   "metadata": {},
   "source": [
    "Existen 2125 calles en LA que solo cuentan con un restaurante.\n",
    "\n",
    "La calle con mas tiene 77."
   ]
  },
  {
   "cell_type": "markdown",
   "metadata": {},
   "source": [
    "### Para las calles con muchos restaurantes, analizaremos la distribución del número de asientos."
   ]
  },
  {
   "cell_type": "code",
   "execution_count": 24,
   "metadata": {},
   "outputs": [
    {
     "data": {
      "text/plain": [
       "array([ 4.,  6., 18.])"
      ]
     },
     "execution_count": 24,
     "metadata": {},
     "output_type": "execute_result"
    }
   ],
   "source": [
    "np.percentile(rest_data_us_street['number_of_establishment'], [90, 95, 99])"
   ]
  },
  {
   "cell_type": "code",
   "execution_count": 25,
   "metadata": {},
   "outputs": [],
   "source": [
    "top_data_us_street = rest_data_us_street[rest_data_us_street['number_of_establishment'] > 6]"
   ]
  },
  {
   "cell_type": "code",
   "execution_count": 26,
   "metadata": {},
   "outputs": [
    {
     "data": {
      "image/png": "[encoded data removed]",
      "text/plain": [
       "<Figure size 432x432 with 3 Axes>"
      ]
     },
     "metadata": {},
     "output_type": "display_data"
    }
   ],
   "source": [
    "sns.jointplot(\n",
    "    data=top_data_us_street, \n",
    "    x='number_of_establishment', \n",
    "    y='avg_number_of_seats', \n",
    "    kind='reg', \n",
    "    palette='viridis')\n",
    "plt.show()"
   ]
  },
  {
   "cell_type": "markdown",
   "metadata": {},
   "source": [
    "El gráfico con línea de regresión entre el número de establecimientos y el número promedio de asientos muestra una correlación positiva entre estas dos variables. \n",
    "\n",
    "A medida que aumenta el número de establecimientos en una calle, el número medio de asientos también tiende a aumentar."
   ]
  },
  {
   "cell_type": "markdown",
   "metadata": {},
   "source": [
    "## Conclusion"
   ]
  },
  {
   "cell_type": "markdown",
   "metadata": {},
   "source": [
    "Pudimos revisar que los tipos de establecimiento más populares en Los Ángeles son los restaurantes, seguidos de los locales de comida rápida y las cafeterías. \n",
    "\n",
    "También encontramos que el número medio de asientos en los restaurantes de Los Ángeles es de 48. \n",
    "\n",
    "La mayoria de las calles tienen al menos 2 locales de comida, pero algunas calles tienen más de 4 establecimientos.\n",
    "\n",
    "También hemos comprobado que existe una correlación positiva entre el número de restaurantes de una calle y el número medio de asientos de esos restaurantes.\n",
    "\n",
    "En conclusión, este proyecto proporciona información sobre el panorama gastronómico de Los Ángeles. \n",
    "\n",
    "Los propietarios de restaurantes y los inversores pueden utilizar estos datos para tomar decisiones informadas sobre la apertura de nuevos restaurantes o la inversión en los ya existentes. \n",
    "\n",
    "Tambien pudimos revisar que hay calles con mas de 10 estableciemintos con pocos asientos esas calles serian una buena opcion para desarrollar e intorducir una nueva cadena."
   ]
  },
  {
   "cell_type": "markdown",
   "metadata": {},
   "source": [
    "## Presentación"
   ]
  },
  {
   "cell_type": "markdown",
   "metadata": {},
   "source": [
    "Preparamos una presentación de la investigación para compartir con el grupo de inversionistas. \n",
    "Incluimos el enlace a la presentación:\n",
    "Presentation: <https://drive.google.com/file/d/1VhsdnynUxYgIyghdBCOkazYcuq1PuhNO/view?usp=sharing> "
   ]
  },
  {
   "cell_type": "markdown",
   "metadata": {},
   "source": [
    "_________________"
   ]
  }
 ],
 "metadata": {
  "kernelspec": {
   "display_name": "Python 3 (ipykernel)",
   "language": "python",
   "name": "python3"
  },
  "language_info": {
   "codemirror_mode": {
    "name": "ipython",
    "version": 3
   },
   "file_extension": ".py",
   "mimetype": "text/x-python",
   "name": "python",
   "nbconvert_exporter": "python",
   "pygments_lexer": "ipython3",
   "version": "3.9.5"
  },
  "toc": {
   "base_numbering": 1,
   "nav_menu": {},
   "number_sections": true,
   "sideBar": true,
   "skip_h1_title": true,
   "title_cell": "Table of Contents",
   "title_sidebar": "Contents",
   "toc_cell": false,
   "toc_position": {},
   "toc_section_display": true,
   "toc_window_display": false
  }
 },
 "nbformat": 4,
 "nbformat_minor": 2
}
